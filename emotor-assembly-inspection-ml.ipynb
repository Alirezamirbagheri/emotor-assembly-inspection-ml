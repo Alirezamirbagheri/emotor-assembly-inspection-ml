{
  "nbformat": 4,
  "nbformat_minor": 0,
  "metadata": {
    "colab": {
      "provenance": [],
      "authorship_tag": "ABX9TyMlHUOVpOZA+xwnVanSw+Gw",
      "include_colab_link": true
    },
    "kernelspec": {
      "name": "python3",
      "display_name": "Python 3"
    },
    "language_info": {
      "name": "python"
    }
  },
  "cells": [
    {
      "cell_type": "markdown",
      "metadata": {
        "id": "view-in-github",
        "colab_type": "text"
      },
      "source": [
        "<a href=\"https://colab.research.google.com/github/Alirezamirbagheri/emotor-assembly-inspection-ml/blob/main/emotor-assembly-inspection-ml.ipynb\" target=\"_parent\"><img src=\"https://colab.research.google.com/assets/colab-badge.svg\" alt=\"Open In Colab\"/></a>"
      ]
    },
    {
      "cell_type": "code",
      "execution_count": 12,
      "metadata": {
        "id": "GFEtvyvHPAKw",
        "colab": {
          "base_uri": "https://localhost:8080/"
        },
        "outputId": "e21a42f1-25d1-42f7-8623-bf7bc1e64ebb"
      },
      "outputs": [
        {
          "output_type": "stream",
          "name": "stdout",
          "text": [
            "Mounted at /content/gdrive\n",
            "side  top\n"
          ]
        },
        {
          "output_type": "execute_result",
          "data": {
            "text/plain": [
              "numpy.ndarray"
            ]
          },
          "metadata": {},
          "execution_count": 12
        }
      ],
      "source": [
        "# Mounting the Gdrive\n",
        "from google.colab import drive\n",
        "from google.colab.patches import cv2_imshow\n",
        "import sys, os\n",
        "drive.mount('/content/gdrive', force_remount=True)\n",
        "\n",
        "# Changing and adjusting the working directory = should be customized\n",
        "dir_path = '/content/gdrive/My Drive/ML/Image_Classification/EMotor_Inspection'\n",
        "sys.path.append(dir_path)\n",
        "os.chdir(dir_path)\n",
        "\n",
        "import numpy as np\n",
        "import matplotlib.pyplot as plt\n",
        "import pandas as pd\n",
        "import random\n",
        "import cv2\n",
        "import tensorflow as tf\n",
        "# from scripts.check import *\n",
        "!ls \"/content/gdrive/My Drive/ML/Image_Classification/EMotor_Inspection/data\"\n",
        "# Loading one image in the top view\n",
        "path = \"./data/top/L1_C_3.JPG\"\n",
        "img = cv2.imread(path)\n",
        "img.shape\n",
        "type(img)\n",
        "\n",
        "\n"
      ]
    }
  ]
}