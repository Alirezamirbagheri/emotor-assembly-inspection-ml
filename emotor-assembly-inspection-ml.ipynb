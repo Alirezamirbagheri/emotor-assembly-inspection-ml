{
  "nbformat": 4,
  "nbformat_minor": 0,
  "metadata": {
    "colab": {
      "provenance": [],
      "authorship_tag": "ABX9TyMrhthDLVQOuPPMw2MwbtKc",
      "include_colab_link": true
    },
    "kernelspec": {
      "name": "python3",
      "display_name": "Python 3"
    },
    "language_info": {
      "name": "python"
    }
  },
  "cells": [
    {
      "cell_type": "markdown",
      "metadata": {
        "id": "view-in-github",
        "colab_type": "text"
      },
      "source": [
        "<a href=\"https://colab.research.google.com/github/Alirezamirbagheri/emotor-assembly-inspection-ml/blob/main/emotor-assembly-inspection-ml.ipynb\" target=\"_parent\"><img src=\"https://colab.research.google.com/assets/colab-badge.svg\" alt=\"Open In Colab\"/></a>"
      ]
    },
    {
      "cell_type": "code",
      "execution_count": null,
      "metadata": {
        "id": "GFEtvyvHPAKw"
      },
      "outputs": [],
      "source": [
        "# Mounting the Gdrive\n",
        "from google.colab import drive\n",
        "from google.colab.patches import cv2_imshow\n",
        "import sys, os\n",
        "drive.mount('/content/gdrive')\n",
        "\n",
        "# Changing and adjusting the working directory = should be customized\n",
        "dir_path = '/content/gdrive/My Drive/ML/Image_classification/Emotor_inspection'\n",
        "sys.path.append(dir_path)\n",
        "os.chdir(dir_path)\n"
      ]
    }
  ]
}